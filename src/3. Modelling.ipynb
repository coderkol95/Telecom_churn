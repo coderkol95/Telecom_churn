{
 "cells": [
  {
   "cell_type": "markdown",
   "metadata": {},
   "source": [
    "# Business problem:\n",
    "\n",
    "Companies usually have a greater focus on customer acquisition than customer. However, it can cost anywhere between five to twenty five times more to attract a new customer than retain an existing one. Increasing customer retention rates by 5% can increase profits by 25%, according to a research done by Bain & Company.\n",
    "\n",
    "Churn is a metric that measures the no. of customers who stop doing business with a company. Through this metric, most businesses would try to understand the reason behind churn numbers and tackle those factors with reactive action plans.\n",
    "\n",
    "But what if you could identify a customer who is likely to churn and take appropriate steps to prevent it from happening? The reasons that lead customers to the cancellation decision can be numerous, ranging from poor service quality to new competitors entering the market. Usually, there is no single reason, but a combination of factors that result to customer churn.\n",
    "\n",
    "Although the customers have churned, their data is still available. Through machine learning we can sift through this valuable data to discover patterns and understand the combination of different factors which lead to customer churn.\n",
    "\n",
    "Our goal in this project is to identify behavior among customers who are likely to churn. Subsequent to that we need to train a machine learning model to identify these signals from a customer before they churn. Once deployed, our model will identify customers who might churn and alert us to take necessary steps to prevent their churn."
   ]
  },
  {
   "cell_type": "markdown",
   "metadata": {},
   "source": [
    "# Take input as formatted data:train, validation and test from the data processed python file. \r\n",
    "\r\n",
    "# Use HyperOpt and genetic algorithms for parameter tuning\r\n",
    "\r\n",
    "# Output the best model "
   ]
  },
  {
   "cell_type": "markdown",
   "metadata": {},
   "source": [
    "# Initialisation"
   ]
  },
  {
   "cell_type": "code",
   "execution_count": 50,
   "metadata": {},
   "outputs": [],
   "source": [
    "###############################################################################\r\n",
    "#\r\n",
    "#Importing libraries\r\n",
    "#\r\n",
    "import pandas as pd\r\n",
    "import matplotlib.pyplot as plt\r\n",
    "from sklearn.preprocessing import LabelEncoder, StandardScaler, LabelBinarizer\r\n",
    "from sklearn.model_selection import train_test_split as tts\r\n",
    "from sklearn.naive_bayes import BernoulliNB, GaussianNB\r\n",
    "from sklearn.linear_model import LogisticRegression\r\n",
    "from sklearn.svm import SVC\r\n",
    "from sklearn.neighbors import KNeighborsClassifier\r\n",
    "from sklearn.ensemble import RandomForestClassifier, GradientBoostingClassifier,AdaBoostClassifier\r\n",
    "from imblearn.under_sampling import RandomUnderSampler\r\n",
    "from imblearn.over_sampling import SMOTE\r\n",
    "from numpy import random\r\n",
    "from sklearn.model_selection import train_test_split\r\n",
    "from sklearn.metrics import f1_score, roc_auc_score, confusion_matrix, recall_score as R\r\n",
    "import matplotlib.pyplot as plt\r\n",
    "import warnings\r\n",
    "from sklearn.preprocessing import LabelBinarizer\r\n",
    "from sklearn.feature_selection import chi2\r\n",
    "import pickle\r\n",
    "###############################################################################\r\n",
    "#\r\n",
    "#Notebook options\r\n",
    "#\r\n",
    "pd.options.display.max_columns =100\r\n",
    "warnings.filterwarnings('ignore')\r\n",
    "###############################################################################\r\n"
   ]
  },
  {
   "cell_type": "code",
   "execution_count": null,
   "metadata": {},
   "outputs": [],
   "source": [
    "train = pd.read_csv(r\"../Data/train.csv\")\r\n",
    "test = pd.read_csv(r\"../Data/test.csv\")\r\n"
   ]
  },
  {
   "cell_type": "code",
   "execution_count": null,
   "metadata": {},
   "outputs": [],
   "source": [
    "X_train, y_train = train.iloc[:,:-1], train.iloc[:,-1]\r\n",
    "X_test, y_test = test.iloc[:,:-1], test.iloc[:,-1]"
   ]
  },
  {
   "cell_type": "code",
   "execution_count": null,
   "metadata": {},
   "outputs": [],
   "source": []
  },
  {
   "cell_type": "code",
   "execution_count": null,
   "metadata": {},
   "outputs": [],
   "source": [
    "ch=pd.DataFrame(chi2(X_train, y_train)).transpose()\r\n",
    "ch.columns=['Chi squared value','p-value']\r\n",
    "ch['p-value'] = ch['p-value'].apply(lambda x: float(x))\r\n",
    "to_drop = ch[ch['p-value']>0.05].index.tolist()\r\n",
    "to_drop = [str(x) for x in to_drop]\r\n",
    "\r\n",
    "X_train.drop(to_drop,axis=1,inplace=True)\r\n",
    "X_test.drop(to_drop,axis=1,inplace=True)\r\n"
   ]
  },
  {
   "cell_type": "code",
   "execution_count": null,
   "metadata": {},
   "outputs": [],
   "source": [
    "r=RandomUnderSampler()\r\n",
    "X_train, y_train = r.fit_resample(X_train, y_train)\r\n"
   ]
  },
  {
   "cell_type": "code",
   "execution_count": null,
   "metadata": {},
   "outputs": [],
   "source": []
  },
  {
   "cell_type": "code",
   "execution_count": null,
   "metadata": {},
   "outputs": [],
   "source": []
  },
  {
   "cell_type": "markdown",
   "metadata": {},
   "source": [
    "# Model"
   ]
  },
  {
   "cell_type": "code",
   "execution_count": 51,
   "metadata": {},
   "outputs": [],
   "source": [
    "###############################################################################\r\n",
    "#\r\n",
    "# def build(model,X_train, X_test, y_train, y_test,c,e)\r\n",
    "# \r\n",
    "# Input:\r\n",
    "# model = the model object\r\n",
    "# X_train, X_test = standard scaled train and test features\r\n",
    "# y_train, y_test = response variables in train and test set\r\n",
    "# c = Revenue lost due to churn of a singular customer\r\n",
    "# e = Cost of focusing effort on a single to prevent his/her churn\r\n",
    "#\r\n",
    "# 1. Initialise variables \r\n",
    "# 2. Fit the model\r\n",
    "# 3. r = recall_score\r\n",
    "# 4. p = count of missed positive churn predictions \r\n",
    "# 5. Unravel the confusion matrix\r\n",
    "# 6. Calculate F1 score\r\n",
    "# 7. Calculate ROC score\r\n",
    "# 8. Revenue = (Predicted & actual churn)*c -(count of missed actual positive prediction)*c - (predicted churn)*e\r\n",
    "# 9. Send computed values to business function\r\n",
    "#\r\n",
    "###############################################################################\r\n",
    "\r\n",
    "def build(model,X_train, X_test, y_train, y_test,c,e):  \r\n",
    "\r\n",
    "    rev,p,r=0,0,0\r\n",
    "\r\n",
    "    model.fit(X_train,y_train)\r\n",
    "    y_pr=model.predict(X_test)\r\n",
    "\r\n",
    "    r=round(recall_score(y_test,y_pr)*100,2)\r\n",
    "    p=round((100-r),2)\r\n",
    "    tn, fp, fn, tp = confusion_matrix(y_test, y_pr).ravel()\r\n",
    "    f1 = f1_score(y_test,y_pr)\r\n",
    "    roc = roc_auc_score(y_test, y_pr)\r\n",
    "    rev = tp*c -fn*c - (tp+fp)*e\r\n",
    "    return round(r,2), round(p,2), f1, roc,rev  "
   ]
  },
  {
   "cell_type": "code",
   "execution_count": 56,
   "metadata": {},
   "outputs": [],
   "source": [
    "#########################################################################################\r\n",
    "#\r\n",
    "# def compute(df,c,e):\r\n",
    "# \r\n",
    "# Input:\r\n",
    "# df = input dataframe  \r\n",
    "# c = Revenue lost due to churn of a singular customer\r\n",
    "# e = Cost of focusing effort on a single to prevent his/her chur\r\n",
    "#\r\n",
    "# 1. Preprocesses the data\r\n",
    "# 2. Splits the data into training and test set; undersamples the overrepresented class in training set \r\n",
    "# 3. Prepares models and calculates parameters\r\n",
    "# 4. Collates all the data into a mod dataframe\r\n",
    "# 5. Return the comparison database\r\n",
    "#\r\n",
    "#########################################################################################\r\n",
    "\r\n",
    "def compute(X_train,y_train,X_test,y_test, *var):\r\n",
    "    \r\n",
    "    c=var[0]\r\n",
    "    e=var[1]\r\n",
    "    #X,y=preprocess(df)\r\n",
    "    #X_train, X_test, y_train, y_test = \r\n",
    "\r\n",
    "    svm = SVC()\r\n",
    "    b=BernoulliNB()\r\n",
    "    gbc=GradientBoostingClassifier()\r\n",
    "    ada=AdaBoostClassifier()\r\n",
    "    lr=LogisticRegression()\r\n",
    "    rf=RandomForestClassifier()   \r\n",
    "\r\n",
    "    pred_b,misd_b,f1_b,roc_b,rev_b=build(b,X_train, X_test, y_train, y_test,c,e)\r\n",
    "    pred_knn,misd_knn,f1_knn,roc_knn,rev_knn=build(gbc,X_train, X_test, y_train, y_test,c,e)\r\n",
    "    pred_ada,misd_ada,f1_ada,roc_ada,rev_ada=build(ada,X_train, X_test, y_train, y_test,c,e)\r\n",
    "    pred_lr,misd_lr,f1_lr,roc_lr,rev_lr=build(lr,X_train, X_test, y_train, y_test,c,e)\r\n",
    "    pred_svm,misd_svm,f1_svm,roc_svm,rev_svm=build(svm,X_train, X_test, y_train, y_test,c,e)\r\n",
    "    pred_rf,misd_rf,f1_rf,roc_rf,rev_rf=build(rf,X_train, X_test, y_train, y_test,c,e)\r\n",
    "\r\n",
    "    rev = [rev_svm,rev_b,rev_knn,rev_lr,rev_rf,rev_ada]\r\n",
    "    misd= [misd_svm,misd_b,misd_knn,misd_lr,misd_rf,misd_ada]\r\n",
    "    pred= [pred_svm,pred_b,pred_knn,pred_lr,pred_rf,pred_ada]\r\n",
    "    f1s= [f1_svm,f1_b,f1_knn,f1_lr,f1_rf,f1_ada]\r\n",
    "    rocs= [roc_svm,roc_b,roc_knn,roc_lr,roc_rf,roc_ada]\r\n",
    "    mod = [\"Support Vector Machine\", \"Naive Bayes\",\"Gradient Boosting Classifier\",\"Logistic regression\",\"Random Forest\",\"AdaBoost Classifier\"]\r\n",
    "    model = [svm,b,gbc,lr,rf,ada]\r\n",
    "\r\n",
    "    mod = pd.DataFrame({\"Revenue saved\":rev,\"Predicted(True positive)\":pred,\"Missed(False negative)\":misd,\"F1 score\":f1s, \"ROC_AUC\":rocs,\"Model\":model}, index=mod)\r\n",
    "    mod.sort_values([\"Revenue saved\"], ascending=False,inplace=True)\r\n",
    "    \r\n",
    "    return mod"
   ]
  },
  {
   "cell_type": "markdown",
   "metadata": {},
   "source": [
    "# Business implication"
   ]
  },
  {
   "cell_type": "code",
   "execution_count": 57,
   "metadata": {},
   "outputs": [],
   "source": [
    "#########################################################################################\r\n",
    "#\r\n",
    "# def business(mod,c,e):\r\n",
    "# Input:\r\n",
    "# mod = model details dataframe\r\n",
    "# c = Revenue lost due to churn of a singular customer\r\n",
    "# e = Cost of focusing effort on a single to prevent his/her chur\r\n",
    "#  \r\n",
    "# 1. lost = Total revenue lost due to churn = (Total reponses=1, i.e. churn) * (cost of churn)\r\n",
    "# 2. best = best model as per revenue\r\n",
    "# 3. Initialize some variables\r\n",
    "# 4. Draw >30 samples of size 50% of df\r\n",
    "# 5. x = Selecting random set of 50% customers\r\n",
    "# 6. saved_churn = Count of churn predicted by the current sample * cost of churn\r\n",
    "# 7. cost_of_effort = Total expenditure by focusing effort on random 50% of df\r\n",
    "# 8. money_that_could_have_been_saved = difference between focusing effort on random 50% of the population and return on it by saving churn\r\n",
    "# 9. cost_saved_by_model = revenue loss prevented by predicting churn using our model\r\n",
    "# 10. avg_rev_lost = averages the money that could have been saved over all the 50 samples drawn each time\r\n",
    "# 11. avg_money_saved = cost saved by our model + money that could have been saved\r\n",
    "# 12. cost = averages the money that could have been saved over all sample draws\r\n",
    "# 13. gained_rev = averages the money saved by our model as compared to random sampling over all sample draws\r\n",
    "# 14. Print summary\r\n",
    "#\r\n",
    "#########################################################################################\r\n",
    "\r\n",
    "def business(df,y,mod,c,e):\r\n",
    "\r\n",
    "    lb=LabelBinarizer()\r\n",
    "    lost=lb.fit_transform(y).sum()*c \r\n",
    "\r\n",
    "    best=mod.head(1)\r\n",
    "\r\n",
    "    avg_rev_lost=[]\r\n",
    "    avg_money_saved=[]\r\n",
    "\r\n",
    "    for i in range(1,31):\r\n",
    "        \r\n",
    "        var_churn=0.5\r\n",
    "        x = random.randint(df.shape[0], size=(round(df.shape[0]*var_churn)))     \r\n",
    "        saved_churn = (lb.fit_transform(df.Churn.iloc[x])).sum()*c  \r\n",
    "        cost_of_effort = x.shape[0]*e\r\n",
    "        \r\n",
    "        money_that_could_have_been_saved = cost_of_effort-saved_churn\r\n",
    "        cost_saved_by_model=best.iloc[0,0]\r\n",
    "\r\n",
    "        avg_rev_lost.append(money_that_could_have_been_saved)\r\n",
    "        avg_money_saved.append(cost_saved_by_model+money_that_could_have_been_saved)\r\n",
    "\r\n",
    "    cost = pd.DataFrame(avg_rev_lost).mean()\r\n",
    "    gained_rev = pd.DataFrame(avg_money_saved).mean()\r\n",
    "\r\n",
    "    print(f\"Lost revenue if we do not prevent churn = Rs.{lost} \\n\") \r\n",
    "    print(f\"Assumed cost of losing a customer: Rs.{c} \\nAssumed cost of effort to prevent churn: Rs.{e} \\n\")\r\n",
    "    print(f\"Percentage of customers predicted by '{best.index[0]}' who were going to churn: {best.iloc[0,1]}%\")\r\n",
    "    print(f\"Percentage of customers missed by '{best.index[0]}' who were going to churn: {best.iloc[0,2]}%\")\r\n",
    "    print(\"Revenue saved by preventing churn with our model as compared to no model = Rs\", best.iloc[0,0])\r\n",
    "    print(f\"\\n\\nTotal expenditure for preventing churn on random {var_churn*100}% of customers: Rs.{cost_of_effort}\")\r\n",
    "    print(f\"Extra cost to prevent churn within random {var_churn*100}% of the customers = Rs.{round(cost[0])}\")\r\n",
    "    print(f\"Our '{best.index[0]}' model saves us Rs.{round(gained_rev[0])} on an average compared to a random selection of 50% customers\")\r\n",
    "    return best"
   ]
  },
  {
   "cell_type": "code",
   "execution_count": 58,
   "metadata": {},
   "outputs": [],
   "source": [
    "from sklearn.metrics import confusion_matrix"
   ]
  },
  {
   "cell_type": "code",
   "execution_count": 61,
   "metadata": {},
   "outputs": [],
   "source": [
    "if __name__==\"__main__\":\r\n",
    "\r\n",
    "    c = input(\"Enter the revenue lost due to churn of a single customer\")\r\n",
    "    e = input(\"Cost of focusing effort on a customer to prevent his/her churn\")\r\n",
    "    c = 0 if c=='' else int(c)\r\n",
    "    e = 0 if e=='' else int(e)\r\n",
    "    if c>0 and e>0:\r\n",
    "        var = [c,e]\r\n",
    "    else: \r\n",
    "        var=[5000,1500]\r\n",
    "    mod=compute(X_train,y_train,X_test,y_test,*var)\r\n",
    "    #business(df,y,mod,*var)"
   ]
  },
  {
   "cell_type": "code",
   "execution_count": 62,
   "metadata": {},
   "outputs": [
    {
     "data": {
      "text/html": [
       "<div>\n",
       "<style scoped>\n",
       "    .dataframe tbody tr th:only-of-type {\n",
       "        vertical-align: middle;\n",
       "    }\n",
       "\n",
       "    .dataframe tbody tr th {\n",
       "        vertical-align: top;\n",
       "    }\n",
       "\n",
       "    .dataframe thead th {\n",
       "        text-align: right;\n",
       "    }\n",
       "</style>\n",
       "<table border=\"1\" class=\"dataframe\">\n",
       "  <thead>\n",
       "    <tr style=\"text-align: right;\">\n",
       "      <th></th>\n",
       "      <th>Revenue saved</th>\n",
       "      <th>Predicted(True positive)</th>\n",
       "      <th>Missed(False negative)</th>\n",
       "      <th>F1 score</th>\n",
       "      <th>ROC_AUC</th>\n",
       "      <th>Model</th>\n",
       "    </tr>\n",
       "  </thead>\n",
       "  <tbody>\n",
       "    <tr>\n",
       "      <th>Naive Bayes</th>\n",
       "      <td>12000</td>\n",
       "      <td>78.76</td>\n",
       "      <td>21.24</td>\n",
       "      <td>0.544343</td>\n",
       "      <td>0.718572</td>\n",
       "      <td>BernoulliNB()</td>\n",
       "    </tr>\n",
       "    <tr>\n",
       "      <th>AdaBoost Classifier</th>\n",
       "      <td>-176500</td>\n",
       "      <td>59.00</td>\n",
       "      <td>41.00</td>\n",
       "      <td>0.606061</td>\n",
       "      <td>0.738443</td>\n",
       "      <td>(DecisionTreeClassifier(max_depth=1, random_st...</td>\n",
       "    </tr>\n",
       "    <tr>\n",
       "      <th>Logistic regression</th>\n",
       "      <td>-244000</td>\n",
       "      <td>57.23</td>\n",
       "      <td>42.77</td>\n",
       "      <td>0.583459</td>\n",
       "      <td>0.724453</td>\n",
       "      <td>LogisticRegression()</td>\n",
       "    </tr>\n",
       "    <tr>\n",
       "      <th>Gradient Boosting Classifier</th>\n",
       "      <td>-248500</td>\n",
       "      <td>56.34</td>\n",
       "      <td>43.66</td>\n",
       "      <td>0.589506</td>\n",
       "      <td>0.726571</td>\n",
       "      <td>([DecisionTreeRegressor(criterion='friedman_ms...</td>\n",
       "    </tr>\n",
       "    <tr>\n",
       "      <th>Random Forest</th>\n",
       "      <td>-349000</td>\n",
       "      <td>52.80</td>\n",
       "      <td>47.20</td>\n",
       "      <td>0.563780</td>\n",
       "      <td>0.709339</td>\n",
       "      <td>(DecisionTreeClassifier(max_features='auto', r...</td>\n",
       "    </tr>\n",
       "    <tr>\n",
       "      <th>Support Vector Machine</th>\n",
       "      <td>-355000</td>\n",
       "      <td>52.80</td>\n",
       "      <td>47.20</td>\n",
       "      <td>0.560250</td>\n",
       "      <td>0.707470</td>\n",
       "      <td>SVC()</td>\n",
       "    </tr>\n",
       "  </tbody>\n",
       "</table>\n",
       "</div>"
      ],
      "text/plain": [
       "                              Revenue saved  Predicted(True positive)  \\\n",
       "Naive Bayes                           12000                     78.76   \n",
       "AdaBoost Classifier                 -176500                     59.00   \n",
       "Logistic regression                 -244000                     57.23   \n",
       "Gradient Boosting Classifier        -248500                     56.34   \n",
       "Random Forest                       -349000                     52.80   \n",
       "Support Vector Machine              -355000                     52.80   \n",
       "\n",
       "                              Missed(False negative)  F1 score   ROC_AUC  \\\n",
       "Naive Bayes                                    21.24  0.544343  0.718572   \n",
       "AdaBoost Classifier                            41.00  0.606061  0.738443   \n",
       "Logistic regression                            42.77  0.583459  0.724453   \n",
       "Gradient Boosting Classifier                   43.66  0.589506  0.726571   \n",
       "Random Forest                                  47.20  0.563780  0.709339   \n",
       "Support Vector Machine                         47.20  0.560250  0.707470   \n",
       "\n",
       "                                                                          Model  \n",
       "Naive Bayes                                                       BernoulliNB()  \n",
       "AdaBoost Classifier           (DecisionTreeClassifier(max_depth=1, random_st...  \n",
       "Logistic regression                                        LogisticRegression()  \n",
       "Gradient Boosting Classifier  ([DecisionTreeRegressor(criterion='friedman_ms...  \n",
       "Random Forest                 (DecisionTreeClassifier(max_features='auto', r...  \n",
       "Support Vector Machine                                                    SVC()  "
      ]
     },
     "execution_count": 62,
     "metadata": {},
     "output_type": "execute_result"
    }
   ],
   "source": [
    "mod"
   ]
  },
  {
   "cell_type": "code",
   "execution_count": 37,
   "metadata": {},
   "outputs": [],
   "source": [
    "from sklearn.tree import DecisionTreeClassifier\r\n",
    "\r\n",
    "g=DecisionTreeClassifier()\r\n",
    "g.fit(X_train, y_train)\r\n",
    "path = g.cost_complexity_pruning_path(X_train, y_train)\r\n",
    "alpha=path.ccp_alphas.tolist()\r\n",
    "trainscores=[]\r\n",
    "testscores=[]\r\n",
    "\r\n",
    "for i in alpha:\r\n",
    "    g=DecisionTreeClassifier(ccp_alpha=i)\r\n",
    "    g.fit(X_train,y_train)\r\n",
    "    yptrain=g.predict(X_train)\r\n",
    "    yptest=g.predict(X_test)\r\n",
    "\r\n",
    "    trainscores.append(accuracy_score(y_train,yptrain))\r\n",
    "    testscores.append(accuracy_score(y_test,yptest))\r\n",
    "\r\n",
    "    \r\n"
   ]
  },
  {
   "cell_type": "code",
   "execution_count": 45,
   "metadata": {},
   "outputs": [
    {
     "name": "stderr",
     "output_type": "stream",
     "text": [
      "c:\\Users\\ADMIN\\Documents\\Codebase\\envs\\machine_L\\lib\\site-packages\\seaborn\\_decorators.py:36: FutureWarning: Pass the following variables as keyword args: x, y. From version 0.12, the only valid positional argument will be `data`, and passing other arguments without an explicit keyword will result in an error or misinterpretation.\n",
      "  warnings.warn(\n",
      "c:\\Users\\ADMIN\\Documents\\Codebase\\envs\\machine_L\\lib\\site-packages\\seaborn\\_decorators.py:36: FutureWarning: Pass the following variables as keyword args: x, y. From version 0.12, the only valid positional argument will be `data`, and passing other arguments without an explicit keyword will result in an error or misinterpretation.\n",
      "  warnings.warn(\n"
     ]
    },
    {
     "data": {
      "text/plain": [
       "<matplotlib.lines.Line2D at 0x182224fd160>"
      ]
     },
     "execution_count": 45,
     "metadata": {},
     "output_type": "execute_result"
    },
    {
     "data": {
      "image/png": "[encoded data removed]",
      "text/plain": [
       "<Figure size 1440x1080 with 1 Axes>"
      ]
     },
     "metadata": {},
     "output_type": "display_data"
    }
   ],
   "source": [
    "import matplotlib.pyplot as plt\r\n",
    "import seaborn as sns\r\n",
    "\r\n",
    "d=pd.DataFrame({'alphas':alpha, 'trainscore':trainscores, 'testscore':testscores})\r\n",
    "d=d[d.alphas<0.01\r\n",
    "]\r\n",
    "plt.figure(figsize=(20,15))\r\n",
    "sns.set()\r\n",
    "plt.style.use('fivethirtyeight')\r\n",
    "sns.lineplot(d.alphas, d.trainscore, label='train')\r\n",
    "sns.lineplot(d.alphas, d.testscore, label='test')\r\n",
    "plt.axvline(0.00067)"
   ]
  },
  {
   "cell_type": "markdown",
   "metadata": {},
   "source": []
  }
 ],
 "metadata": {
  "interpreter": {
   "hash": "62a490a61034db1e8b6e05e6e999b5629625384177f9d8186b44b788547d5428"
  },
  "kernelspec": {
   "display_name": "Python 3.9.5 64-bit ('machine_L': venv)",
   "name": "python3"
  },
  "language_info": {
   "name": "python",
   "version": ""
  },
  "metadata": {
   "interpreter": {
    "hash": "25e55770fcf34c599020a25d496c9f3b95f72a4b8e22976c31f9a97ef8dc14b4"
   }
  },
  "orig_nbformat": 2
 },
 "nbformat": 4,
 "nbformat_minor": 2
}